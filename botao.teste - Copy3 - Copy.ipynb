{
 "cells": [
  {
   "cell_type": "code",
   "execution_count": 3,
   "metadata": {},
   "outputs": [
    {
     "name": "stdout",
     "output_type": "stream",
     "text": [
      "end\n"
     ]
    },
    {
     "ename": "ValueError",
     "evalue": "invalid literal for int() with base 10: ''",
     "output_type": "error",
     "traceback": [
      "\u001b[1;31m---------------------------------------------------------------------------\u001b[0m",
      "\u001b[1;31mValueError\u001b[0m                                Traceback (most recent call last)",
      "Cell \u001b[1;32mIn[3], line 15\u001b[0m\n\u001b[0;32m     13\u001b[0m cargo \u001b[38;5;241m=\u001b[39m \u001b[38;5;28minput\u001b[39m( \u001b[38;5;124m'\u001b[39m\u001b[38;5;124mWhat is your profession? \u001b[39m\u001b[38;5;124m'\u001b[39m)\n\u001b[0;32m     14\u001b[0m experiencia \u001b[38;5;241m=\u001b[39m \u001b[38;5;28minput\u001b[39m(\u001b[38;5;124mf\u001b[39m\u001b[38;5;124m'\u001b[39m\u001b[38;5;124mHow long do you work as \u001b[39m\u001b[38;5;132;01m{\u001b[39;00mcargo\u001b[38;5;132;01m}\u001b[39;00m\u001b[38;5;124m ? \u001b[39m\u001b[38;5;124m'\u001b[39m)\n\u001b[1;32m---> 15\u001b[0m num1 \u001b[38;5;241m=\u001b[39m \u001b[38;5;28;43mint\u001b[39;49m\u001b[43m(\u001b[49m\u001b[43mexperiencia\u001b[49m\u001b[43m)\u001b[49m\n\u001b[0;32m     16\u001b[0m \u001b[38;5;28;01mif\u001b[39;00m num1\u001b[38;5;241m>\u001b[39m\u001b[38;5;241m5\u001b[39m:\n\u001b[0;32m     17\u001b[0m     \u001b[38;5;28mprint\u001b[39m(\u001b[38;5;124m'\u001b[39m\u001b[38;5;124mperfeito!\u001b[39m\u001b[38;5;124m'\u001b[39m)\n",
      "\u001b[1;31mValueError\u001b[0m: invalid literal for int() with base 10: ''"
     ]
    }
   ],
   "source": [
    "myname = input(\"Please enter your name: \")\n",
    "myage = input(\"What about your age: \")\n",
    "cargo = input( 'What is your profession? ')\n",
    "experiencia = input(f'How long do you work as {cargo} ? ')\n",
    "num1 = int(experiencia)\n",
    "if num1>5:\n",
    "    print('perfeito!')\n",
    "elif num1==5:\n",
    "    print ('furrada!')\n",
    "elif num1<5:\n",
    "    print('inacreditavel!')\n",
    "else:\n",
    "    print('fodasse')\n",
    "print (f\"Hello World, my name is\", myname,\"and I am\",myage,\"years old\", 'and i am', cargo, 'with' , experiencia, 'years experience!'  )"
   ]
  }
 ],
 "metadata": {
  "kernelspec": {
   "display_name": "Python 3",
   "language": "python",
   "name": "python3"
  },
  "language_info": {
   "codemirror_mode": {
    "name": "ipython",
    "version": 3
   },
   "file_extension": ".py",
   "mimetype": "text/x-python",
   "name": "python",
   "nbconvert_exporter": "python",
   "pygments_lexer": "ipython3",
   "version": "3.11.4"
  }
 },
 "nbformat": 4,
 "nbformat_minor": 2
}
